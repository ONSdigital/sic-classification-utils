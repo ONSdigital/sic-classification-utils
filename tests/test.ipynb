{
 "cells": [
  {
   "cell_type": "code",
   "execution_count": 1,
   "id": "9ac614a1",
   "metadata": {},
   "outputs": [
    {
     "name": "stdout",
     "output_type": "stream",
     "text": [
      "/home/user/sic-classification-utils\n"
     ]
    }
   ],
   "source": [
    "cd .."
   ]
  },
  {
   "cell_type": "code",
   "execution_count": 2,
   "id": "260bb358",
   "metadata": {},
   "outputs": [
    {
     "name": "stderr",
     "output_type": "stream",
     "text": [
      "INFO:industrial_classification_utils.utils.sic_data_access:Loading text from /home/user/sic-classification-utils/src/industrial_classification_utils/data/example/sic_2d_condensed.txt\n"
     ]
    }
   ],
   "source": [
    "from industrial_classification.hierarchy.sic_hierarchy import SIC, SicCode, SicNode\n",
    "\n",
    "from src.industrial_classification_utils.llm.llm import ClassificationLLM"
   ]
  },
  {
   "cell_type": "code",
   "execution_count": 3,
   "id": "551d597f",
   "metadata": {},
   "outputs": [],
   "source": [
    "nodes = [\n",
    "        SicNode(sic_code=SicCode(\"A0111x\"), description=\"Bird watching\"),\n",
    "        SicNode(sic_code=SicCode(\"A0112x\"), description=\"Petting animals\"),\n",
    "]\n",
    "lookup = {}\n",
    "for node in nodes:\n",
    "    lookup[str(node.sic_code)] = node\n",
    "    lookup[node.sic_code.alpha_code] = node\n",
    "    lookup[node.sic_code.alpha_code.replace(\"x\", \"\")] = node\n",
    "    if node.sic_code.n_digits > 1:\n",
    "        lookup[node.sic_code.alpha_code[1:].replace(\"x\", \"\")] = node\n",
    "\n",
    "    if node.sic_code.n_digits == 4 and not node.children:  # noqa: PLR2004\n",
    "        key = node.sic_code.alpha_code[1:5] + \"0\"\n",
    "        lookup[key] = node\n",
    "sic = SIC(nodes=nodes, code_lookup=lookup)"
   ]
  },
  {
   "cell_type": "code",
   "execution_count": 4,
   "id": "3b038c21",
   "metadata": {},
   "outputs": [
    {
     "name": "stdout",
     "output_type": "stream",
     "text": [
      "model_name: gemini-1.5-flash\n"
     ]
    }
   ],
   "source": [
    "llm_class = ClassificationLLM(model_name=\"gemini-1.5-flash\")"
   ]
  },
  {
   "cell_type": "code",
   "execution_count": 5,
   "id": "026645c8",
   "metadata": {},
   "outputs": [],
   "source": [
    "code = llm_class.get_sic_code(industry_descr=\"school\", job_description=\"teach maths\", job_title=\"teacher\")"
   ]
  },
  {
   "cell_type": "code",
   "execution_count": 6,
   "id": "946e45c5",
   "metadata": {},
   "outputs": [
    {
     "data": {
      "text/plain": [
       "SicResponse(codable=True, followup=None, sic_code='85100', sic_descriptive='Education', sic_candidates=[SicCandidate(sic_code='85100', sic_descriptive='Education', likelihood=1.0)], reasoning=\"The respondent's company's main activity is described as 'school', and the job title and description are 'teacher' and 'teach maths', respectively.  This clearly falls under the 'Education' category (SIC 85).  The specific four-digit code may vary depending on the type of school (e.g., primary, secondary, special needs), but the two-digit code is definitively 85.\")"
      ]
     },
     "execution_count": 6,
     "metadata": {},
     "output_type": "execute_result"
    }
   ],
   "source": [
    "code"
   ]
  },
  {
   "cell_type": "code",
   "execution_count": 7,
   "id": "e4390fae",
   "metadata": {},
   "outputs": [],
   "source": [
    "llm_class.sic = sic"
   ]
  },
  {
   "cell_type": "code",
   "execution_count": 8,
   "id": "332fae93",
   "metadata": {},
   "outputs": [
    {
     "data": {
      "text/plain": [
       "SicCode(\"A0111x\")"
      ]
     },
     "execution_count": 8,
     "metadata": {},
     "output_type": "execute_result"
    }
   ],
   "source": [
    "llm_class.sic.nodes[0].sic_code"
   ]
  },
  {
   "cell_type": "code",
   "execution_count": 9,
   "id": "bee2c67f",
   "metadata": {},
   "outputs": [],
   "source": [
    "prompt_candidate = llm_class._prompt_candidate(code=\"01120\", activities=[\"giving belly rubs\"])"
   ]
  },
  {
   "cell_type": "code",
   "execution_count": 10,
   "id": "f37924ff",
   "metadata": {},
   "outputs": [
    {
     "data": {
      "text/plain": [
       "True"
      ]
     },
     "execution_count": 10,
     "metadata": {},
     "output_type": "execute_result"
    }
   ],
   "source": [
    "all(x in prompt_candidate  for x in [\"Code\", \"01120\"])"
   ]
  },
  {
   "cell_type": "code",
   "execution_count": 11,
   "id": "ddea0c99",
   "metadata": {},
   "outputs": [
    {
     "data": {
      "text/plain": [
       "'{Code: 01120, Title: Petting animals, Example activities: giving belly rubs}'"
      ]
     },
     "execution_count": 11,
     "metadata": {},
     "output_type": "execute_result"
    }
   ],
   "source": [
    "prompt_candidate"
   ]
  },
  {
   "cell_type": "code",
   "execution_count": 15,
   "id": "3ee1962d",
   "metadata": {},
   "outputs": [
    {
     "data": {
      "text/html": [
       "<div>\n",
       "<style scoped>\n",
       "    .dataframe tbody tr th:only-of-type {\n",
       "        vertical-align: middle;\n",
       "    }\n",
       "\n",
       "    .dataframe tbody tr th {\n",
       "        vertical-align: top;\n",
       "    }\n",
       "\n",
       "    .dataframe thead th {\n",
       "        text-align: right;\n",
       "    }\n",
       "</style>\n",
       "<table border=\"1\" class=\"dataframe\">\n",
       "  <thead>\n",
       "    <tr style=\"text-align: right;\">\n",
       "      <th></th>\n",
       "      <th>code</th>\n",
       "      <th>text</th>\n",
       "    </tr>\n",
       "  </thead>\n",
       "  <tbody>\n",
       "    <tr>\n",
       "      <th>0</th>\n",
       "      <td>01.11</td>\n",
       "      <td>Bird watching</td>\n",
       "    </tr>\n",
       "    <tr>\n",
       "      <th>1</th>\n",
       "      <td>01.12</td>\n",
       "      <td>Petting animals</td>\n",
       "    </tr>\n",
       "  </tbody>\n",
       "</table>\n",
       "</div>"
      ],
      "text/plain": [
       "    code             text\n",
       "0  01.11    Bird watching\n",
       "1  01.12  Petting animals"
      ]
     },
     "execution_count": 15,
     "metadata": {},
     "output_type": "execute_result"
    }
   ],
   "source": [
    "llm_class.sic.all_leaf_text()"
   ]
  }
 ],
 "metadata": {
  "kernelspec": {
   "display_name": "sic-classification-utils-T1LXdiOP-py3.12",
   "language": "python",
   "name": "python3"
  },
  "language_info": {
   "codemirror_mode": {
    "name": "ipython",
    "version": 3
   },
   "file_extension": ".py",
   "mimetype": "text/x-python",
   "name": "python",
   "nbconvert_exporter": "python",
   "pygments_lexer": "ipython3",
   "version": "3.12.3"
  }
 },
 "nbformat": 4,
 "nbformat_minor": 5
}
